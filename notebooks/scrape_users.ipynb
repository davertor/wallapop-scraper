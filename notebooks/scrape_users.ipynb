{
 "cells": [
  {
   "cell_type": "code",
   "execution_count": null,
   "metadata": {},
   "outputs": [],
   "source": [
    "%load_ext autoreload\n",
    "%autoreload 2"
   ]
  },
  {
   "cell_type": "markdown",
   "metadata": {},
   "source": [
    "## Introduction\n",
    "\n",
    "Notebook for scraping users from wallapop webpage"
   ]
  },
  {
   "cell_type": "markdown",
   "metadata": {},
   "source": [
    "## Import libraries\n"
   ]
  },
  {
   "cell_type": "code",
   "execution_count": null,
   "metadata": {},
   "outputs": [],
   "source": [
    "import os\n",
    "import requests\n",
    "from bs4 import BeautifulSoup\n",
    "import pandas as pd\n",
    "import json\n",
    "from tqdm import tqdm"
   ]
  },
  {
   "cell_type": "markdown",
   "metadata": {},
   "source": [
    "## Initialize variables"
   ]
  },
  {
   "cell_type": "code",
   "execution_count": null,
   "metadata": {},
   "outputs": [],
   "source": [
    "OUTPUT_FOLDER = '../output_data/'\n",
    "SAVED_DATA_PATH = f'{OUTPUT_FOLDER}items_list_Cuenca-Cuenca-Castilla-La+Mancha-16002-26_12.csv'\n",
    "\n",
    "user_city = 'Cuenca'\n",
    "user_province = 'Cuenca'  # Province to scrape\n",
    "country_code = 'ES'  # Country code\n",
    "user_postal_code = '16002'  # Postal code\n",
    "distance = 10000  # In meters\n",
    "start_idx = 0  # Start index\n",
    "user_region = 'Castilla-La+Mancha'  # Region to scrape\n",
    "lat = 40.07127\n",
    "long = -2.13634"
   ]
  },
  {
   "cell_type": "markdown",
   "metadata": {},
   "source": [
    "## Get full item list for the region selected"
   ]
  },
  {
   "cell_type": "code",
   "execution_count": null,
   "metadata": {},
   "outputs": [],
   "source": [
    "from wallapop_scraper.scraper import get_items_per_region"
   ]
  },
  {
   "cell_type": "code",
   "execution_count": null,
   "metadata": {},
   "outputs": [],
   "source": [
    "if SAVED_DATA_PATH:\n",
    "    total_df = pd.read_csv(SAVED_DATA_PATH)\n",
    "else:\n",
    "    total_df = get_items_per_region(\n",
    "        user_city, user_province, user_region, user_postal_code,\n",
    "        lat, long, sleep=0.5, max_items=50000,\n",
    "    )\n",
    "\n",
    "print('Number of items:', len(total_df))\n",
    "\n",
    "display(total_df.head(3))\n",
    "display(total_df.tail(3))"
   ]
  },
  {
   "cell_type": "code",
   "execution_count": null,
   "metadata": {},
   "outputs": [],
   "source": [
    "print(f'Total of items on sale in {user_city}: {len(total_df)}')\n",
    "\n",
    "unique_users = total_df.user_id.unique().tolist()\n",
    "print(f'Total of unique seller users in {user_city}: {len(unique_users)}')"
   ]
  },
  {
   "cell_type": "markdown",
   "metadata": {},
   "source": [
    "### Add sold items of the existing users"
   ]
  },
  {
   "cell_type": "code",
   "execution_count": null,
   "metadata": {},
   "outputs": [],
   "source": [
    "from wallapop_scraper.scraper import get_user_sold_items\n",
    "\n",
    "for user_id in tqdm(unique_users):\n",
    "    user_sold_items = get_user_sold_items(user_id)\n",
    "    \n",
    "    for sold_item in user_sold_items:\n",
    "        total_df = total_df.append(sold_item, ignore_index=True)\n",
    "        \n",
    "# Remove duplicates\n",
    "total_df = total_df.drop_duplicates()\n",
    "print(f'Total of active and historical catched items in {user_city} after removing duplicates: {len(total_df)}')"
   ]
  },
  {
   "cell_type": "markdown",
   "metadata": {},
   "source": [
    "### Add user information"
   ]
  },
  {
   "cell_type": "code",
   "execution_count": null,
   "metadata": {},
   "outputs": [],
   "source": [
    "from wallapop_scraper.scraper import get_user_info\n",
    "\n",
    "# Get user information\n",
    "total_df['user_alias'] = None\n",
    "total_df['user_gender'] = None\n",
    "total_df['register_date'] = None\n",
    "total_df['user_postal_code'] = None\n",
    "total_df['user_city'] = None\n",
    "total_df['user_url'] = None\n",
    "\n",
    "for user_id in tqdm(unique_users):\n",
    "    # Get user info\n",
    "    user_info = get_user_info(user_id)\n",
    "    \n",
    "    if user_info is not None:\n",
    "        # Add info to dataframe\n",
    "        try:\n",
    "            total_df.loc[total_df.user_id == user_id, 'user_alias'] = user_info['user_alias']\n",
    "            total_df.loc[total_df.user_id == user_id, 'user_gender'] = user_info['user_gender']\n",
    "            total_df.loc[total_df.user_id == user_id, 'register_date'] = user_info['register_date']\n",
    "            total_df.loc[total_df.user_id == user_id, 'user_postal_code'] = user_info['user_postal_code']\n",
    "            total_df.loc[total_df.user_id == user_id, 'user_city'] = user_info['user_city']\n",
    "            total_df.loc[total_df.user_id == user_id, 'user_url'] = user_info['user_url']\n",
    "            \n",
    "        except Exception as e:\n",
    "            print(e)\n",
    "            print(user_info)\n",
    "            break\n",
    "    "
   ]
  },
  {
   "cell_type": "code",
   "execution_count": null,
   "metadata": {},
   "outputs": [],
   "source": [
    "# Save dataframe to csv\n",
    "dest_name = f'items_list_{user_city}-{user_province}-{user_region}-{user_postal_code}-26_12.csv'\n",
    "\n",
    "try:\n",
    "    total_df.to_csv(os.path.join(OUTPUT_FOLDER, dest_name), index=False)\n",
    "    print('File saved successfully')\n",
    "except Exception as e:\n",
    "    print(e)"
   ]
  },
  {
   "cell_type": "markdown",
   "metadata": {},
   "source": [
    "## Inspect collected info"
   ]
  },
  {
   "cell_type": "code",
   "execution_count": null,
   "metadata": {},
   "outputs": [],
   "source": [
    "# Print max and min distance of the items of your list\n",
    "print('Item with max distance from your target location: ', total_df.distance.max())\n",
    "print('Item with min distance from your target location: ', total_df.distance.min())"
   ]
  },
  {
   "cell_type": "code",
   "execution_count": null,
   "metadata": {},
   "outputs": [],
   "source": [
    "# Find users with substring in their alias\n",
    "\n",
    "target_user_names_list = ['jose']\n",
    "\n",
    "# Get the dataframe with none null values in user_alias column\n",
    "existing_user_df = total_df[total_df.user_alias.notnull()].copy()\n",
    "print(f'Number of items with user_alias: {len(existing_user_df)}')\n",
    "\n",
    "existing_user_df['user_alias'] = existing_user_df['user_alias'].apply(lambda x: x.lower())\n",
    "target_df = existing_user_df[existing_user_df.user_alias.str.contains('|'.join(target_user_names_list))]\n",
    "print(f'Number of items with user_alias containing the target substring: {len(target_df)}')"
   ]
  },
  {
   "cell_type": "code",
   "execution_count": null,
   "metadata": {},
   "outputs": [],
   "source": [
    "# Show pandas table grouping by user_alias\n",
    "display(target_df.groupby('user_alias').count().sort_values(by='user_id', ascending=False))"
   ]
  },
  {
   "cell_type": "code",
   "execution_count": null,
   "metadata": {},
   "outputs": [],
   "source": [
    "# Show items for a certain user_alias\n",
    "target_user_alias = 'jose a.'\n",
    "\n",
    "target_df = existing_user_df[existing_user_df.user_alias == target_user_alias]\n",
    "\n",
    "print('Wallapop user url: ', target_df.iloc[0]['user_url'])\n",
    "print('')\n",
    "display(target_df)"
   ]
  },
  {
   "cell_type": "code",
   "execution_count": null,
   "metadata": {},
   "outputs": [],
   "source": [
    "# Show items that contains a certain word in the description\n",
    "\n",
    "target_word = 'vino'\n",
    "\n",
    "df_with_description = total_df[total_df.description.notnull()].copy()\n",
    "\n",
    "target_df = df_with_description[df_with_description.description.str.contains(target_word)].copy()\n",
    "\n",
    "display(target_df[['title','description','user_url','user_alias']])"
   ]
  },
  {
   "cell_type": "code",
   "execution_count": null,
   "metadata": {},
   "outputs": [],
   "source": [
    "print(target_df.loc[6125, 'user_url'])"
   ]
  }
 ],
 "metadata": {
  "kernelspec": {
   "display_name": "Python 3.7.4 ('projects')",
   "language": "python",
   "name": "python3"
  },
  "language_info": {
   "codemirror_mode": {
    "name": "ipython",
    "version": 3
   },
   "file_extension": ".py",
   "mimetype": "text/x-python",
   "name": "python",
   "nbconvert_exporter": "python",
   "pygments_lexer": "ipython3",
   "version": "3.7.4"
  },
  "orig_nbformat": 4,
  "vscode": {
   "interpreter": {
    "hash": "9e4edcb131101c7d83bb5cb5d0ae5db46b1b86ff8b576dd0213a9cfa70e56ea1"
   }
  }
 },
 "nbformat": 4,
 "nbformat_minor": 2
}
